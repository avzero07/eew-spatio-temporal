{
 "cells": [
  {
   "cell_type": "code",
   "execution_count": 1,
   "id": "61571326",
   "metadata": {},
   "outputs": [],
   "source": [
    "import os\n",
    "from est_lib.util.obspy_util import *\n",
    "from est_lib.dataset.seismic_dataset_new import EQDataset, get_device\n",
    "from obspy import UTCDateTime as dt\n",
    "from tqdm.notebook import tqdm"
   ]
  },
  {
   "cell_type": "code",
   "execution_count": 2,
   "id": "06eaaed3",
   "metadata": {},
   "outputs": [],
   "source": [
    "# Torch and NN Imports\n",
    "import torch\n",
    "from est_lib.nn.cp_line_simple import cp_line_simple"
   ]
  },
  {
   "cell_type": "code",
   "execution_count": 3,
   "id": "80c5fdb0",
   "metadata": {},
   "outputs": [],
   "source": [
    "sta_list = ['HOLB','PACB','WOSB']\n",
    "cha_list = ['HHE','HHN','HHZ']\n",
    "\n",
    "event1 = ('6.3mw',50.6081,-129.9656,\"2019-12-25T03:36:01.578000Z\")\n",
    "event2 = ('6.8',+49.347,-129.214,\"2018-10-22T06:16:28.160000\")\n",
    "event3 = ('4.2 mb',+49.028,-128.5804,\"2018-12-09T18:14:23.700000Z\")\n",
    "event4 = ('6.0  mww',+50.517,-129.757,\"2019-12-23T20:56:23.555000Z\")"
   ]
  },
  {
   "cell_type": "code",
   "execution_count": 4,
   "id": "42cced8c",
   "metadata": {},
   "outputs": [],
   "source": [
    "# Save\n",
    "filepath = os.path.abspath('../est_lib/_data/eq')"
   ]
  },
  {
   "cell_type": "code",
   "execution_count": 5,
   "id": "f1da6c53",
   "metadata": {
    "scrolled": false
   },
   "outputs": [],
   "source": [
    "# Inventory\n",
    "inv = inventory_retriever(network=\"CN\",\n",
    "                              sta_list=sta_list,\n",
    "                              level='response')\n",
    "inv_file = inventory_writer(inv,\n",
    "                            os.path.join(filepath,'inv.xml'),\n",
    "                            file_format=\"STATIONXML\")\n",
    "\n",
    "# Event 1\n",
    "ev_1_train_x = stream_retriever(event_time = dt(event1[3]),\n",
    "                          seconds_before = 600,\n",
    "                          seconds_after = 1500,\n",
    "                          network=\"CN\",\n",
    "                          sta_list=sta_list[0:2],\n",
    "                          channel_list=cha_list)\n",
    "\n",
    "ev_1_train_y = stream_retriever(event_time = dt(event1[3]),\n",
    "                          seconds_before = 600,\n",
    "                          seconds_after = 1500,\n",
    "                          network=\"CN\",\n",
    "                          sta_list=sta_list[-1:],\n",
    "                          channel_list=cha_list)\n",
    "\n",
    "# Event2\n",
    "ev_2_test_x = stream_retriever(event_time = dt(event4[3]),\n",
    "                          seconds_before = 600,\n",
    "                          seconds_after = 1500,\n",
    "                          network=\"CN\",\n",
    "                          sta_list=sta_list[0:2],\n",
    "                          channel_list=cha_list)\n",
    "\n",
    "ev_2_test_y = stream_retriever(event_time = dt(event4[3]),\n",
    "                          seconds_before = 600,\n",
    "                          seconds_after = 1500,\n",
    "                          network=\"CN\",\n",
    "                          sta_list=sta_list[-1:],\n",
    "                          channel_list=cha_list)"
   ]
  },
  {
   "cell_type": "code",
   "execution_count": 6,
   "id": "57489269",
   "metadata": {},
   "outputs": [
    {
     "data": {
      "text/plain": [
       "3 Trace(s) in Stream:\n",
       "CN.WOSB..HHE | 2019-12-23T20:46:23.560000Z - 2019-12-23T21:11:23.550000Z | 100.0 Hz, 150000 samples\n",
       "CN.WOSB..HHN | 2019-12-23T20:46:23.560000Z - 2019-12-23T21:11:23.550000Z | 100.0 Hz, 150000 samples\n",
       "CN.WOSB..HHZ | 2019-12-23T20:46:23.560000Z - 2019-12-23T21:11:23.550000Z | 100.0 Hz, 150000 samples"
      ]
     },
     "execution_count": 6,
     "metadata": {},
     "output_type": "execute_result"
    }
   ],
   "source": [
    "# Remove Response\n",
    "ev_1_train_x.remove_response(inventory=inv)\n",
    "ev_1_train_y.remove_response(inventory=inv)\n",
    "ev_2_test_x.remove_response(inventory=inv)\n",
    "ev_2_test_y.remove_response(inventory=inv)"
   ]
  },
  {
   "cell_type": "code",
   "execution_count": 7,
   "id": "2dcf26c1",
   "metadata": {},
   "outputs": [],
   "source": [
    "# Train Files\n",
    "train_x_f_path = os.path.join(filepath,'train_x.npy')\n",
    "train_x_file = stream_data_writer(ev_1_train_x,\n",
    "                              inv,\n",
    "                              train_x_f_path,\n",
    "                              sta_list[0:2],\n",
    "                              cha_list)\n",
    "        \n",
    "train_y_f_path = os.path.join(filepath,'train_y.npy')\n",
    "train_y_file = stream_data_writer(ev_1_train_y,\n",
    "                              inv,\n",
    "                              train_y_f_path,\n",
    "                              sta_list[-1:],\n",
    "                              cha_list)"
   ]
  },
  {
   "cell_type": "code",
   "execution_count": 8,
   "id": "e85b8e9d",
   "metadata": {},
   "outputs": [],
   "source": [
    "# Test Files\n",
    "test_x_f_path = os.path.join(filepath,'test_x.npy')\n",
    "test_x_file = stream_data_writer(ev_2_test_x,\n",
    "                              inv,\n",
    "                              test_x_f_path,\n",
    "                              sta_list[0:2],\n",
    "                              cha_list)\n",
    "        \n",
    "test_y_f_path = os.path.join(filepath,'test_y.npy')\n",
    "test_y_file = stream_data_writer(ev_2_test_y,\n",
    "                              inv,\n",
    "                              test_y_f_path,\n",
    "                              sta_list[-1:],\n",
    "                              cha_list)"
   ]
  },
  {
   "cell_type": "code",
   "execution_count": 9,
   "id": "3f60afb0",
   "metadata": {},
   "outputs": [],
   "source": [
    "# Load Dataset\n",
    "train_dataset = EQDataset(inv_file,\n",
    "                    train_x_file,train_y_file,\n",
    "                    sta_list=sta_list,\n",
    "                    chan_list=cha_list,\n",
    "                    ip_dim=3,\n",
    "                    num_nodes=3,\n",
    "                    seq_length=500)\n",
    "\n",
    "test_dataset = EQDataset(inv_file,\n",
    "                    test_x_file,test_y_file,\n",
    "                    sta_list=sta_list,\n",
    "                    chan_list=cha_list,\n",
    "                    ip_dim=3,\n",
    "                    num_nodes=3,\n",
    "                    seq_length=500)"
   ]
  },
  {
   "cell_type": "code",
   "execution_count": 12,
   "id": "b91b3af2",
   "metadata": {},
   "outputs": [],
   "source": [
    "# Data Loader\n",
    "batch_len = 1000\n",
    "train_loader = torch.utils.data.DataLoader(train_dataset,batch_size=batch_len)\n",
    "test_loader = torch.utils.data.DataLoader(test_dataset,batch_size=batch_len)"
   ]
  },
  {
   "cell_type": "code",
   "execution_count": 14,
   "id": "0f09ddc6",
   "metadata": {},
   "outputs": [],
   "source": [
    "# Model\n",
    "net = cp_line_simple(num_in_nodes=2,feat_size=3)\n",
    "net = net.to(get_device())"
   ]
  },
  {
   "cell_type": "markdown",
   "id": "9be94404",
   "metadata": {},
   "source": [
    "# Start Functions and Code for Train/Eval Routine"
   ]
  },
  {
   "cell_type": "code",
   "execution_count": 15,
   "id": "da78959e",
   "metadata": {},
   "outputs": [],
   "source": [
    "num_epoch = 2\n",
    "optimizer = torch.optim.Adam(net.parameters())\n",
    "loss1 = torch.nn.MSELoss()\n",
    "loss2 = torch.nn.MSELoss()\n",
    "loss3 = torch.nn.MSELoss()"
   ]
  },
  {
   "cell_type": "code",
   "execution_count": 16,
   "id": "91b6aad8",
   "metadata": {},
   "outputs": [
    {
     "data": {
      "application/vnd.jupyter.widget-view+json": {
       "model_id": "e0bcdf121b894054bd99e5d91acb3a88",
       "version_major": 2,
       "version_minor": 0
      },
      "text/plain": [
       "  0%|          | 0/2 [00:00<?, ?it/s]"
      ]
     },
     "metadata": {},
     "output_type": "display_data"
    },
    {
     "data": {
      "application/vnd.jupyter.widget-view+json": {
       "model_id": "d8550118932445c98e2d1f8cf0291df2",
       "version_major": 2,
       "version_minor": 0
      },
      "text/plain": [
       "0it [00:00, ?it/s]"
      ]
     },
     "metadata": {},
     "output_type": "display_data"
    },
    {
     "data": {
      "application/vnd.jupyter.widget-view+json": {
       "model_id": "71a0ae377c2b476cac776b5130d674da",
       "version_major": 2,
       "version_minor": 0
      },
      "text/plain": [
       "0it [00:00, ?it/s]"
      ]
     },
     "metadata": {},
     "output_type": "display_data"
    }
   ],
   "source": [
    "test_loss_list = list()\n",
    "for e in tqdm(range(num_epoch)):\n",
    "    net.train()\n",
    "    for i,batch in tqdm(enumerate(train_loader)):\n",
    "        net.zero_grad()\n",
    "        x = batch[0]\n",
    "        y = batch[1]\n",
    "        # Forward Pass\n",
    "        op = net(x)\n",
    "        \n",
    "        # Loss\n",
    "        lx = loss1(op[0],y[:,:,0])\n",
    "        ly = loss1(op[1],y[:,:,1])\n",
    "        lz = loss1(op[2],y[:,:,2])\n",
    "        t_loss = lx+ly+lz\n",
    "        t_loss.backward()\n",
    "        optimizer.step()\n",
    "    # One Test Loop\n",
    "    net.eval()\n",
    "    test_losses = torch.zeros(batch_len)\n",
    "    for i,batch in enumerate(test_loader):\n",
    "        with torch.no_grad():\n",
    "            x = batch[0]\n",
    "            y = batch[1]\n",
    "            # Forward Pass\n",
    "            op = net(x)\n",
    "            \n",
    "            # Loss\n",
    "            lx = loss1(op[0],y[:,:,0])\n",
    "            ly = loss1(op[1],y[:,:,1])\n",
    "            lz = loss1(op[2],y[:,:,2])\n",
    "            t_loss = lx+ly+lz\n",
    "            test_losses[i] = t_loss\n",
    "    t_loss = torch.mean(test_losses)\n",
    "    test_loss_list.append(t_loss)"
   ]
  },
  {
   "cell_type": "code",
   "execution_count": 17,
   "id": "d74791ec",
   "metadata": {},
   "outputs": [],
   "source": [
    "import matplotlib.pyplot as plt\n",
    "%matplotlib inline"
   ]
  },
  {
   "cell_type": "code",
   "execution_count": 18,
   "id": "c90f8812",
   "metadata": {},
   "outputs": [
    {
     "data": {
      "image/png": "[encoded data removed]",
      "text/plain": [
       "<Figure size 432x288 with 1 Axes>"
      ]
     },
     "metadata": {
      "needs_background": "light"
     },
     "output_type": "display_data"
    }
   ],
   "source": [
    "plt.figure()\n",
    "plt.plot(test_loss_list)\n",
    "plt.show()"
   ]
  },
  {
   "cell_type": "code",
   "execution_count": 21,
   "id": "29540d54",
   "metadata": {},
   "outputs": [
    {
     "data": {
      "application/vnd.jupyter.widget-view+json": {
       "model_id": "562bbab8bbf244eb91a01532db90a042",
       "version_major": 2,
       "version_minor": 0
      },
      "text/plain": [
       "0it [00:00, ?it/s]"
      ]
     },
     "metadata": {},
     "output_type": "display_data"
    }
   ],
   "source": [
    "# Save Prediction and Plot\n",
    "pred = list()\n",
    "net.eval()\n",
    "test_losses = torch.zeros(batch_len)\n",
    "for i,batch in tqdm(enumerate(test_loader)):\n",
    "    with torch.no_grad():\n",
    "        x = batch[0]\n",
    "        y = batch[1]\n",
    "        # Forward Pass\n",
    "        op = net(x)\n",
    "        pred.append(op)\n",
    "            \n",
    "        # Loss\n",
    "        lx = loss1(op[0],y[:,:,0])\n",
    "        ly = loss1(op[1],y[:,:,1])\n",
    "        lz = loss1(op[2],y[:,:,2])\n",
    "        t_loss = lx+ly+lz\n",
    "        test_losses[i] = t_loss\n",
    "    t_loss = torch.mean(test_losses)\n",
    "    test_loss_list.append(t_loss)"
   ]
  },
  {
   "cell_type": "code",
   "execution_count": 34,
   "id": "40951813",
   "metadata": {},
   "outputs": [],
   "source": [
    "def write_op_to_numpy_streams(obj,batch_size,features):\n",
    "    for i,op in tqdm(enumerate(obj)):\n",
    "        if i==0:\n",
    "            tempx = op[0].detach().cpu().numpy()\n",
    "            tempy = op[1].detach().cpu().numpy()\n",
    "            tempz = op[2].detach().cpu().numpy()\n",
    "        else:\n",
    "            tempx = np.concatenate((tempx,op[0].detach().cpu().numpy()))\n",
    "            tempy = np.concatenate((tempy,op[1].detach().cpu().numpy()))\n",
    "            tempz = np.concatenate((tempz,op[2].detach().cpu().numpy()))\n",
    "    return tempx,tempy,tempz"
   ]
  },
  {
   "cell_type": "code",
   "execution_count": 35,
   "id": "fccf9468",
   "metadata": {},
   "outputs": [
    {
     "data": {
      "application/vnd.jupyter.widget-view+json": {
       "model_id": "1346f3d1811d41e8954392687941caed",
       "version_major": 2,
       "version_minor": 0
      },
      "text/plain": [
       "0it [00:00, ?it/s]"
      ]
     },
     "metadata": {},
     "output_type": "display_data"
    }
   ],
   "source": [
    "final = write_op_to_numpy_streams(pred,batch_len,3)"
   ]
  },
  {
   "cell_type": "code",
   "execution_count": 58,
   "id": "2b67a2e5",
   "metadata": {},
   "outputs": [
    {
     "data": {
      "image/png": "[encoded data removed]",
      "text/plain": [
       "<Figure size 432x288 with 1 Axes>"
      ]
     },
     "metadata": {
      "needs_background": "light"
     },
     "output_type": "display_data"
    }
   ],
   "source": [
    "plt.figure()\n",
    "plt.plot(ev_2_test_y[0].data,label='real')\n",
    "plt.plot(final[0],label='pred')\n",
    "plt.grid()\n",
    "plt.legend()\n",
    "plt.show()"
   ]
  },
  {
   "cell_type": "code",
   "execution_count": 59,
   "id": "2a3c491d",
   "metadata": {},
   "outputs": [
    {
     "data": {
      "image/png": "[encoded data removed]",
      "text/plain": [
       "<Figure size 432x288 with 1 Axes>"
      ]
     },
     "metadata": {
      "needs_background": "light"
     },
     "output_type": "display_data"
    }
   ],
   "source": [
    "plt.figure()\n",
    "plt.plot(ev_2_test_y[1].data,label='real')\n",
    "plt.plot(final[1],label='pred')\n",
    "plt.grid()\n",
    "plt.legend()\n",
    "plt.show()"
   ]
  },
  {
   "cell_type": "code",
   "execution_count": 60,
   "id": "326854a4",
   "metadata": {},
   "outputs": [
    {
     "data": {
      "image/png": "[encoded data removed]",
      "text/plain": [
       "<Figure size 432x288 with 1 Axes>"
      ]
     },
     "metadata": {
      "needs_background": "light"
     },
     "output_type": "display_data"
    }
   ],
   "source": [
    "plt.figure()\n",
    "plt.plot(ev_2_test_y[2].data,label='real')\n",
    "plt.plot(final[2],label='pred')\n",
    "plt.grid()\n",
    "plt.legend()\n",
    "plt.show()"
   ]
  },
  {
   "cell_type": "code",
   "execution_count": null,
   "id": "715231e7",
   "metadata": {},
   "outputs": [],
   "source": []
  }
 ],
 "metadata": {
  "kernelspec": {
   "display_name": "Python 3",
   "language": "python",
   "name": "python3"
  },
  "language_info": {
   "codemirror_mode": {
    "name": "ipython",
    "version": 3
   },
   "file_extension": ".py",
   "mimetype": "text/x-python",
   "name": "python",
   "nbconvert_exporter": "python",
   "pygments_lexer": "ipython3",
   "version": "3.8.8"
  }
 },
 "nbformat": 4,
 "nbformat_minor": 5
}
