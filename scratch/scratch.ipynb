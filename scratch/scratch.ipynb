{
 "cells": [
  {
   "cell_type": "code",
   "execution_count": 1,
   "id": "64108ea5",
   "metadata": {},
   "outputs": [],
   "source": [
    "from est_lib.util.obspy_util import *\n",
    "from obspy import UTCDateTime as dt"
   ]
  },
  {
   "cell_type": "code",
   "execution_count": 16,
   "id": "99b090ec",
   "metadata": {},
   "outputs": [],
   "source": [
    "inv = inventory_retriever(sta_list=['QEPB','HOPB'])"
   ]
  },
  {
   "cell_type": "code",
   "execution_count": 17,
   "id": "3dbbc291",
   "metadata": {},
   "outputs": [
    {
     "name": "stdout",
     "output_type": "stream",
     "text": [
      "Inventory created at 2021-05-26T15:53:35.000000Z\n",
      "\tCreated by: IRIS WEB SERVICE: fdsnws-station | version: 1.1.47\n",
      "\t\t    http://service.iris.edu/fdsnws/station/1/query?network=CN&station=Q...\n",
      "\tSending institution: IRIS-DMC (IRIS-DMC)\n",
      "\tContains:\n",
      "\t\tNetworks (1):\n",
      "\t\t\tCN\n",
      "\t\tStations (2):\n",
      "\t\t\tCN.HOPB (Hope, BC, CA)\n",
      "\t\t\tCN.QEPB (Queen Elizabeth Park, BC, CA)\n",
      "\t\tChannels (27):\n",
      "\t\t\tCN.HOPB..BHZ (2x), CN.HOPB..BHN (2x), CN.HOPB..BHE (2x), \n",
      "\t\t\tCN.HOPB..HHZ (2x), CN.HOPB..HHN (2x), CN.HOPB..HHE (2x), \n",
      "\t\t\tCN.HOPB..HNZ (2x), CN.HOPB..HNN (2x), CN.HOPB..HNE (2x), \n",
      "\t\t\tCN.QEPB..HHZ, CN.QEPB..HHN, CN.QEPB..HHE, CN.QEPB..HNZ (2x), \n",
      "\t\t\tCN.QEPB..HNN (2x), CN.QEPB..HNE (2x)\n"
     ]
    }
   ],
   "source": [
    "print(inv)"
   ]
  },
  {
   "cell_type": "code",
   "execution_count": 18,
   "id": "3f3b5ee2",
   "metadata": {},
   "outputs": [],
   "source": [
    "stream = stream_retriever(event_time=dt('2021-05-26T08:46:00'),sta_list=['QEPB','HOPB'])"
   ]
  },
  {
   "cell_type": "code",
   "execution_count": 19,
   "id": "c2df7e71",
   "metadata": {},
   "outputs": [
    {
     "name": "stdout",
     "output_type": "stream",
     "text": [
      "6 Trace(s) in Stream:\n",
      "CN.HOPB..HHE | 2021-05-26T08:36:00.000000Z - 2021-05-26T09:11:00.000000Z | 100.0 Hz, 210001 samples\n",
      "CN.HOPB..HHN | 2021-05-26T08:36:00.000000Z - 2021-05-26T09:11:00.000000Z | 100.0 Hz, 210001 samples\n",
      "CN.HOPB..HHZ | 2021-05-26T08:36:00.000000Z - 2021-05-26T09:11:00.000000Z | 100.0 Hz, 210001 samples\n",
      "CN.QEPB..HHE | 2021-05-26T08:36:00.000000Z - 2021-05-26T09:11:00.000000Z | 100.0 Hz, 210001 samples\n",
      "CN.QEPB..HHN | 2021-05-26T08:36:00.000000Z - 2021-05-26T09:11:00.000000Z | 100.0 Hz, 210001 samples\n",
      "CN.QEPB..HHZ | 2021-05-26T08:36:00.000000Z - 2021-05-26T09:11:00.000000Z | 100.0 Hz, 210001 samples\n"
     ]
    }
   ],
   "source": [
    "print(stream)"
   ]
  },
  {
   "cell_type": "code",
   "execution_count": 20,
   "id": "2ec15d7d",
   "metadata": {},
   "outputs": [
    {
     "name": "stdout",
     "output_type": "stream",
     "text": [
      "6 Trace(s) in Stream:\n",
      "CN.HOPB..HHE | 2021-05-26T08:36:00.000000Z - 2021-05-26T09:11:00.000000Z | 100.0 Hz, 210001 samples\n",
      "CN.HOPB..HHN | 2021-05-26T08:36:00.000000Z - 2021-05-26T09:11:00.000000Z | 100.0 Hz, 210001 samples\n",
      "CN.HOPB..HHZ | 2021-05-26T08:36:00.000000Z - 2021-05-26T09:11:00.000000Z | 100.0 Hz, 210001 samples\n",
      "CN.QEPB..HHE | 2021-05-26T08:36:00.000000Z - 2021-05-26T09:11:00.000000Z | 100.0 Hz, 210001 samples\n",
      "CN.QEPB..HHN | 2021-05-26T08:36:00.000000Z - 2021-05-26T09:11:00.000000Z | 100.0 Hz, 210001 samples\n",
      "CN.QEPB..HHZ | 2021-05-26T08:36:00.000000Z - 2021-05-26T09:11:00.000000Z | 100.0 Hz, 210001 samples\n"
     ]
    }
   ],
   "source": [
    "stream2 = stream_retriever(event_time=dt('2021-05-26T08:46:00'),sta_list=['HOPB','QEPB'])\n",
    "print(stream2)"
   ]
  },
  {
   "cell_type": "code",
   "execution_count": 14,
   "id": "c80bbca3",
   "metadata": {},
   "outputs": [
    {
     "name": "stdout",
     "output_type": "stream",
     "text": [
      "[-641 -617 -487 ...,  -98 -623 -166]\n"
     ]
    }
   ],
   "source": [
    "print(stream[0].data)"
   ]
  },
  {
   "cell_type": "code",
   "execution_count": 22,
   "id": "15f5258c",
   "metadata": {},
   "outputs": [
    {
     "name": "stdout",
     "output_type": "stream",
     "text": [
      "               network: CN\n",
      "               station: HOPB\n",
      "              location: \n",
      "               channel: HHE\n",
      "             starttime: 2021-05-26T08:36:00.000000Z\n",
      "               endtime: 2021-05-26T09:11:00.000000Z\n",
      "         sampling_rate: 100.0\n",
      "                 delta: 0.01\n",
      "                  npts: 210001\n",
      "                 calib: 1.0\n",
      "_fdsnws_dataselect_url: http://service.iris.edu/fdsnws/dataselect/1/query\n",
      "               _format: MSEED\n",
      "                 mseed: AttribDict({'dataquality': 'M', 'number_of_records': 602, 'encoding': 'STEIM2', 'byteorder': '>', 'record_length': 512, 'filesize': 2072576})\n",
      "            processing: ['ObsPy 1.2.2.post0+325.g838cc7f686.dirty: trim(endtime=UTCDateTime(2021, 5, 26, 9, 11)::fill_value=None::nearest_sample=True::pad=False::starttime=UTCDateTime(2021, 5, 26, 8, 36))']\n"
     ]
    }
   ],
   "source": [
    "print(stream[0].meta)"
   ]
  },
  {
   "cell_type": "code",
   "execution_count": 23,
   "id": "a891fc69",
   "metadata": {},
   "outputs": [],
   "source": [
    "import os"
   ]
  },
  {
   "cell_type": "code",
   "execution_count": 33,
   "id": "dcbb81f6",
   "metadata": {},
   "outputs": [
    {
     "ename": "OSError",
     "evalue": "[WinError 123] The filename, directory name, or volume label syntax is incorrect: '..\\\\D:'",
     "output_type": "error",
     "traceback": [
      "\u001b[1;31m---------------------------------------------------------------------------\u001b[0m",
      "\u001b[1;31mOSError\u001b[0m                                   Traceback (most recent call last)",
      "\u001b[1;32m<ipython-input-33-1b57c128dd31>\u001b[0m in \u001b[0;36m<module>\u001b[1;34m\u001b[0m\n\u001b[1;32m----> 1\u001b[1;33m \u001b[0mos\u001b[0m\u001b[1;33m.\u001b[0m\u001b[0mlistdir\u001b[0m\u001b[1;33m(\u001b[0m\u001b[0mos\u001b[0m\u001b[1;33m.\u001b[0m\u001b[0mpath\u001b[0m\u001b[1;33m.\u001b[0m\u001b[0mnormpath\u001b[0m\u001b[1;33m(\u001b[0m\u001b[1;34m'../D:'\u001b[0m\u001b[1;33m)\u001b[0m\u001b[1;33m)\u001b[0m\u001b[1;33m\u001b[0m\u001b[1;33m\u001b[0m\u001b[0m\n\u001b[0m",
      "\u001b[1;31mOSError\u001b[0m: [WinError 123] The filename, directory name, or volume label syntax is incorrect: '..\\\\D:'"
     ]
    }
   ],
   "source": [
    "os.listdir(os.path.normpath('../D:'))"
   ]
  },
  {
   "cell_type": "code",
   "execution_count": null,
   "id": "43596dc6",
   "metadata": {},
   "outputs": [],
   "source": []
  }
 ],
 "metadata": {
  "kernelspec": {
   "display_name": "Python 3",
   "language": "python",
   "name": "python3"
  },
  "language_info": {
   "codemirror_mode": {
    "name": "ipython",
    "version": 3
   },
   "file_extension": ".py",
   "mimetype": "text/x-python",
   "name": "python",
   "nbconvert_exporter": "python",
   "pygments_lexer": "ipython3",
   "version": "3.8.8"
  }
 },
 "nbformat": 4,
 "nbformat_minor": 5
}
