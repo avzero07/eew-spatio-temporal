{
 "cells": [
  {
   "cell_type": "code",
   "execution_count": null,
   "id": "1910b77e",
   "metadata": {},
   "outputs": [],
   "source": [
    "import torch\n",
    "import torch.nn as nn\n",
    "from est_lib.util.obspy_util import *\n",
    "from est_lib.dataset.seismic_dataset import CNDataset\n",
    "from obspy import UTCDateTime as dt\n",
    "from torch.utils.data import DataLoader"
   ]
  },
  {
   "cell_type": "code",
   "execution_count": null,
   "id": "5f8817df",
   "metadata": {},
   "outputs": [],
   "source": [
    "from torch_geometric_temporal.nn.attention import MTGNN"
   ]
  },
  {
   "cell_type": "code",
   "execution_count": null,
   "id": "e2e53f75",
   "metadata": {},
   "outputs": [],
   "source": [
    "import os\n",
    "from tqdm.notebook import tqdm"
   ]
  },
  {
   "cell_type": "code",
   "execution_count": null,
   "id": "ccd12c4a",
   "metadata": {},
   "outputs": [],
   "source": [
    "# Env Stuff\n",
    "inv_file_name = 'inv.xml'\n",
    "str_file_name = 'str.pkl'\n",
    "file_path = os.path.abspath('../est_lib/_data/')\n",
    "sta_list = ['QEPB','HOPB']\n",
    "\n",
    "def check_files():\n",
    "    contents = os.listdir(file_path)\n",
    "    if inv_file_name not in contents:\n",
    "        inv = inventory_retriever(network=\"CN\",\n",
    "                              sta_list=sta_list,\n",
    "                              level='response')\n",
    "        # Save File\n",
    "        f_path = os.path.join(file_path,inv_file_name)\n",
    "        op_file_path = inventory_writer(inv,\n",
    "                                    f_path,\n",
    "                                    file_format=\"STATIONXML\")\n",
    "    if str_file_name not in contents:\n",
    "        stream = stream_retriever(event_time = dt('2021-05-26T08:46:00'),\n",
    "                              seconds_before = 600,\n",
    "                              seconds_after = 1500,\n",
    "                              network=\"CN\",\n",
    "                              sta_list=sta_list,\n",
    "                              channel_list=['HHE'])\n",
    "        f_path = os.path.join(file_path,str_file_name)\n",
    "        op_file_path = stream_writer(stream,\n",
    "                                 f_path,\n",
    "                                 file_format=\"PICKLE\")\n",
    "    print(file_path)\n",
    "    print(os.listdir(file_path))"
   ]
  },
  {
   "cell_type": "code",
   "execution_count": null,
   "id": "0f5aefaa",
   "metadata": {},
   "outputs": [],
   "source": [
    "# Retrieve Stream and Inventory\n",
    "check_files()"
   ]
  },
  {
   "cell_type": "code",
   "execution_count": null,
   "id": "4cce5b69",
   "metadata": {},
   "outputs": [],
   "source": [
    "# Set Up Dataset Object\n",
    "obj = CNDataset(os.path.join(file_path,inv_file_name),\n",
    "                os.path.join(file_path,str_file_name),\n",
    "                    sta_list=sta_list,\n",
    "                    ip_dim=1,\n",
    "                    num_nodes=2,\n",
    "                    seq_length=101) # Logical Bug with length"
   ]
  },
  {
   "cell_type": "code",
   "execution_count": null,
   "id": "625cf2dc",
   "metadata": {},
   "outputs": [],
   "source": [
    "# Set Up Dataloader\n",
    "proto_batch_size = 16\n",
    "train_loader = DataLoader(obj,batch_size=proto_batch_size,shuffle=False)"
   ]
  },
  {
   "cell_type": "code",
   "execution_count": null,
   "id": "48366aa9",
   "metadata": {},
   "outputs": [],
   "source": [
    "feat, lab = next(iter(train_loader))"
   ]
  },
  {
   "cell_type": "code",
   "execution_count": null,
   "id": "04bce978",
   "metadata": {},
   "outputs": [],
   "source": [
    "print(feat.shape)\n",
    "print(lab.shape)"
   ]
  },
  {
   "cell_type": "code",
   "execution_count": null,
   "id": "707eb94b",
   "metadata": {},
   "outputs": [],
   "source": [
    "# Set Up CUDA\n",
    "if torch.cuda.is_available():\n",
    "    device = \"cuda\"\n",
    "else:\n",
    "    device = \"cpu\"\n",
    "    \n",
    "obj.data = obj.data.to(device)\n",
    "obj.labels = obj.labels.to(device)"
   ]
  },
  {
   "cell_type": "code",
   "execution_count": null,
   "id": "f00caa8f",
   "metadata": {},
   "outputs": [],
   "source": [
    "print(obj.data.device)\n",
    "print(obj.labels.device)"
   ]
  },
  {
   "cell_type": "code",
   "execution_count": null,
   "id": "6b73d1c3",
   "metadata": {},
   "outputs": [],
   "source": [
    "# Set Up Model\n",
    "gcn_true = True\n",
    "build_adj = True\n",
    "dropout = 0.3\n",
    "subgraph_size = 2\n",
    "gcn_depth = 2\n",
    "num_nodes = obj.num_nodes # Important\n",
    "node_dim = 3 # Need to verify from Paper\n",
    "dilation_exponential = 1\n",
    "conv_channels = 32\n",
    "residual_channels = 32\n",
    "skip_channels = 64\n",
    "end_channels = 128\n",
    "in_dim = obj.ip_dim # Important\n",
    "seq_in_len = obj.seq_length-1 # Important # seq-len bug to be adressed\n",
    "seq_out_len = 1\n",
    "layers = 3\n",
    "batch_size = proto_batch_size # Set by Data Loader\n",
    "propalpha = 0.05\n",
    "tanhalpha = 3\n",
    "num_split = 1\n",
    "num_edges = 10\n",
    "kernel_size = 7\n",
    "kernel_set = [2, 3, 6, 7]"
   ]
  },
  {
   "cell_type": "code",
   "execution_count": null,
   "id": "f2587780",
   "metadata": {},
   "outputs": [],
   "source": [
    "model = MTGNN(gcn_true=gcn_true, build_adj=build_adj, gcn_depth=gcn_depth, num_nodes=num_nodes,\n",
    "                kernel_size=kernel_size, kernel_set=kernel_set, dropout=dropout, subgraph_size=subgraph_size,\n",
    "                node_dim=node_dim, dilation_exponential=dilation_exponential,\n",
    "                conv_channels=conv_channels, residual_channels=residual_channels,\n",
    "                skip_channels=skip_channels, end_channels=end_channels,\n",
    "                seq_length=seq_in_len, in_dim=in_dim, out_dim=seq_out_len,\n",
    "                layers=layers, propalpha=propalpha, tanhalpha=tanhalpha, layer_norm_affline=True)\n",
    "#model.double()\n",
    "model.to(device)"
   ]
  },
  {
   "cell_type": "code",
   "execution_count": null,
   "id": "a347b677",
   "metadata": {
    "scrolled": true
   },
   "outputs": [],
   "source": [
    "# Train Param\n",
    "criterion = nn.MSELoss(size_average=False)\n",
    "evaluateL2 = nn.MSELoss(size_average=False)\n",
    "evaluateL1 = nn.L1Loss(size_average=False)\n",
    "optimizer = torch.optim.Adam(model.parameters(),lr=0.01)"
   ]
  },
  {
   "cell_type": "code",
   "execution_count": null,
   "id": "44d0da6d",
   "metadata": {},
   "outputs": [],
   "source": [
    "# Train Loop\n",
    "losses = list()\n",
    "epochs = 1\n",
    "model.train() # Train Mode\n",
    "for e in tqdm(range(epochs)):\n",
    "    for bid, samp in tqdm(enumerate(train_loader)):\n",
    "        model.zero_grad()\n",
    "#        if bid == 1:\n",
    "#           break\n",
    "        x = samp[0]\n",
    "        y = torch.unsqueeze(samp[1],3) # or squeeze op\n",
    "        # cuda stuff goes here\n",
    "        op = model(x.float())\n",
    "        loss = criterion(op,y.float())\n",
    "        losses.append(loss.item())\n",
    "        loss.backward()\n",
    "        optimizer.step()"
   ]
  },
  {
   "cell_type": "code",
   "execution_count": null,
   "id": "edc04904",
   "metadata": {},
   "outputs": [],
   "source": [
    "print(losses)"
   ]
  },
  {
   "cell_type": "code",
   "execution_count": null,
   "id": "912fa75a",
   "metadata": {},
   "outputs": [],
   "source": [
    "len(losses)"
   ]
  },
  {
   "cell_type": "code",
   "execution_count": null,
   "id": "10143866",
   "metadata": {},
   "outputs": [],
   "source": [
    "import matplotlib.pyplot as plt"
   ]
  },
  {
   "cell_type": "code",
   "execution_count": null,
   "id": "bc59283a",
   "metadata": {},
   "outputs": [],
   "source": [
    "plt.figure()\n",
    "plt.plot(losses)\n",
    "#plt.yscale('log')\n",
    "plt.show()"
   ]
  },
  {
   "cell_type": "code",
   "execution_count": null,
   "id": "ee194e07",
   "metadata": {},
   "outputs": [],
   "source": [
    "model._graph_constructor(model._idx.to(device))"
   ]
  },
  {
   "cell_type": "code",
   "execution_count": null,
   "id": "05af044d",
   "metadata": {},
   "outputs": [],
   "source": [
    "op"
   ]
  },
  {
   "cell_type": "code",
   "execution_count": null,
   "id": "b4e075e6",
   "metadata": {},
   "outputs": [],
   "source": [
    "# Eval Loop\n",
    "test_loader = DataLoader(obj,batch_size=1000,shuffle=False)\n",
    "loss_eval = list()\n",
    "op_eval = list()\n",
    "model.eval()\n",
    "for e in tqdm(range(epochs)):\n",
    "    for bid, samp in tqdm(enumerate(test_loader)):\n",
    "#        if bid == 1:\n",
    "#           break\n",
    "        x = samp[0]\n",
    "        # cuda stuff goes here\n",
    "        op = model(x.float())\n",
    "        op_eval.append(op.detach().cpu())\n",
    "        y = torch.unsqueeze(samp[1],3) # or squeeze op\n",
    "        loss = criterion(op,y.float())\n",
    "        loss_eval.append(loss.item())\n",
    "        del loss"
   ]
  },
  {
   "cell_type": "code",
   "execution_count": null,
   "id": "bfbc413a",
   "metadata": {},
   "outputs": [],
   "source": [
    "op_eval"
   ]
  },
  {
   "cell_type": "code",
   "execution_count": null,
   "id": "2288ead2",
   "metadata": {},
   "outputs": [],
   "source": []
  }
 ],
 "metadata": {
  "kernelspec": {
   "display_name": "Python 3",
   "language": "python",
   "name": "python3"
  },
  "language_info": {
   "codemirror_mode": {
    "name": "ipython",
    "version": 3
   },
   "file_extension": ".py",
   "mimetype": "text/x-python",
   "name": "python",
   "nbconvert_exporter": "python",
   "pygments_lexer": "ipython3",
   "version": "3.8.8"
  }
 },
 "nbformat": 4,
 "nbformat_minor": 5
}
