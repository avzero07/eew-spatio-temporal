{
 "cells": [
  {
   "cell_type": "markdown",
   "id": "65a29702",
   "metadata": {},
   "source": [
    "# Workflow 1"
   ]
  },
  {
   "cell_type": "markdown",
   "id": "1fd55f3d",
   "metadata": {},
   "source": [
    "### Import est_lib Functions"
   ]
  },
  {
   "cell_type": "code",
   "execution_count": 1,
   "id": "34283b58",
   "metadata": {},
   "outputs": [],
   "source": [
    "from est_lib.util.obspy_util import *"
   ]
  },
  {
   "cell_type": "markdown",
   "id": "f6b2e589",
   "metadata": {},
   "source": [
    "### Specify Search Parameters"
   ]
  },
  {
   "cell_type": "code",
   "execution_count": 2,
   "id": "0346483d",
   "metadata": {},
   "outputs": [],
   "source": [
    "'''\n",
    "Specify a list of CNSN stations that are of interest.\n",
    "\n",
    "Refer to the following link to get a full list of CNSN stations\n",
    "https://earthquakescanada.nrcan.gc.ca/stndon/CNSN-RNSC/stnbook-cahierstn/index-en.php\n",
    "'''\n",
    "station_list = ['BFSB','CBB','CLRS','HOLB','HOPB','LLLB','NLLB',\n",
    "                'NTKA','PACB','PHC','PTRF','SNB','SYMB','VGZ','WOSB']\n",
    "\n",
    "\n",
    "'''\n",
    "Specify a Time of interest. Note that that the timestamp\n",
    "is in UTC.\n",
    "'''\n",
    "event_time = '2020-05-23T02:14:48'"
   ]
  },
  {
   "cell_type": "markdown",
   "id": "08259c9b",
   "metadata": {},
   "source": [
    "### Retrieve Station Metadata"
   ]
  },
  {
   "cell_type": "code",
   "execution_count": 3,
   "id": "4aa9fb02",
   "metadata": {},
   "outputs": [],
   "source": [
    "'''\n",
    "Use the inventory_retriever function to retrieve\n",
    "metadata about stations in station_list\n",
    "'''\n",
    "station_metadata = inventory_retriever(sta_list=station_list)"
   ]
  },
  {
   "cell_type": "code",
   "execution_count": 4,
   "id": "8077a725",
   "metadata": {},
   "outputs": [
    {
     "name": "stdout",
     "output_type": "stream",
     "text": [
      "Inventory created at 2021-07-27T03:41:58.000000Z\n",
      "\tCreated by: IRIS WEB SERVICE: fdsnws-station | version: 1.1.47\n",
      "\t\t    http://service.iris.edu/fdsnws/station/1/query?network=CN&station=B...\n",
      "\tSending institution: IRIS-DMC (IRIS-DMC)\n",
      "\tContains:\n",
      "\t\tNetworks (1):\n",
      "\t\t\tCN\n",
      "\t\tStations (15):\n",
      "\t\t\tCN.BFSB (Boischatel, QC, CA)\n",
      "\t\t\tCN.CBB (Campbell River, BC, CA)\n",
      "\t\t\tCN.CLRS (Cowichan Lake Research St, BC, CA)\n",
      "\t\t\tCN.HOLB (Holberg, BC, CA)\n",
      "\t\t\tCN.HOPB (Hope, BC, CA)\n",
      "\t\t\tCN.LLLB (Lillooet, BC, CA)\n",
      "\t\t\tCN.NLLB (Nanaimo Lost Lake, BC, CA)\n",
      "\t\t\tCN.NTKA (Nootka, BC, CA)\n",
      "\t\t\tCN.PACB (Port Alice, BC, CA)\n",
      "\t\t\tCN.PHC (Port Hardy, BC, CA)\n",
      "\t\t\tCN.PTRF (Port Renfrew PTRF, BC, CA)\n",
      "\t\t\tCN.SNB (Saturna Island, BC, CA)\n",
      "\t\t\tCN.SYMB (Survey Mountain, BC, CA)\n",
      "\t\t\tCN.VGZ (Victoria Gonzales, BC, CA)\n",
      "\t\t\tCN.WOSB (Woss, BC, CA)\n",
      "\t\tChannels (253):\n",
      "\t\t\tCN.BFSB..HHZ (2x), CN.BFSB..HHN (2x), CN.BFSB..HHE (2x), \n",
      "\t\t\tCN.BFSB..HNZ (2x), CN.BFSB..HNN (2x), CN.BFSB..HNE (2x), \n",
      "\t\t\tCN.CBB..BHZ (5x), CN.CBB..BHN (5x), CN.CBB..BHE (5x), CN.CBB..HHZ, \n",
      "\t\t\tCN.CBB..HHN, CN.CBB..HHE, CN.CBB..HNZ (3x), CN.CBB..HNN (3x), \n",
      "\t\t\tCN.CBB..HNE (3x), CN.CLRS..HHZ (2x), CN.CLRS..HHN (2x), \n",
      "\t\t\tCN.CLRS..HHE (2x), CN.CLRS..HNZ (3x), CN.CLRS..HNN (3x), \n",
      "\t\t\tCN.CLRS..HNE (3x), CN.HOLB..EHZ, CN.HOLB..HHZ (4x), \n",
      "\t\t\tCN.HOLB..HHN (4x), CN.HOLB..HHE (4x), CN.HOLB..HNZ (3x), \n",
      "\t\t\tCN.HOLB..HNN (3x), CN.HOLB..HNE (3x), CN.HOPB..BHZ (2x), \n",
      "\t\t\tCN.HOPB..BHN (2x), CN.HOPB..BHE (2x), CN.HOPB..HHZ (2x), \n",
      "\t\t\tCN.HOPB..HHN (2x), CN.HOPB..HHE (2x), CN.HOPB..HNZ (2x), \n",
      "\t\t\tCN.HOPB..HNN (2x), CN.HOPB..HNE (2x), CN.LLLB..BHZ, CN.LLLB..BHN, \n",
      "\t\t\tCN.LLLB..BHE, CN.LLLB..HHZ (2x), CN.LLLB..HHN (2x), \n",
      "\t\t\tCN.LLLB..HHE (2x), CN.LLLB..HNZ (2x), CN.LLLB..HNN (2x), \n",
      "\t\t\tCN.LLLB..HNE (2x), CN.NLLB..BHZ (3x), CN.NLLB..BHN (3x), \n",
      "\t\t\tCN.NLLB..BHE (3x), CN.NLLB..HHZ, CN.NLLB..HHN, CN.NLLB..HHE, \n",
      "\t\t\tCN.NLLB..HNZ (2x), CN.NLLB..HNN (2x), CN.NLLB..HNE (2x), \n",
      "\t\t\tCN.NTKA..HHZ (2x), CN.NTKA..HHN (2x), CN.NTKA..HHE (2x), \n",
      "\t\t\tCN.NTKA..HNZ (2x), CN.NTKA..HNN (2x), CN.NTKA..HNE (2x), \n",
      "\t\t\tCN.PACB..HHZ (2x), CN.PACB..HHN (2x), CN.PACB..HHE (2x), \n",
      "\t\t\tCN.PACB..HNZ (2x), CN.PACB..HNN (2x), CN.PACB..HNE (2x), \n",
      "\t\t\tCN.PHC..BHZ (5x), CN.PHC..BHN (5x), CN.PHC..BHE (5x), CN.PHC..HHZ, \n",
      "\t\t\tCN.PHC..HHN, CN.PHC..HHE, CN.PHC..HNZ (3x), CN.PHC..HNN (3x), \n",
      "\t\t\tCN.PHC..HNE (3x), CN.PTRF..HHZ, CN.PTRF..HHN, CN.PTRF..HHE, \n",
      "\t\t\tCN.PTRF..HNZ (2x), CN.PTRF..HNN (2x), CN.PTRF..HNE (2x), \n",
      "\t\t\tCN.SNB..BHZ (3x), CN.SNB..BHN (3x), CN.SNB..BHE (3x), CN.SNB..EHZ, \n",
      "\t\t\tCN.SNB..HHZ (2x), CN.SNB..HHN (2x), CN.SNB..HHE (2x), \n",
      "\t\t\tCN.SNB..HNZ (2x), CN.SNB..HNN (2x), CN.SNB..HNE (2x), CN.SYMB..HHZ\n",
      "\t\t\tCN.SYMB..HHN, CN.SYMB..HHE, CN.SYMB..HNZ (3x), CN.SYMB..HNN (3x)\n",
      "\t\t\tCN.SYMB..HNE (3x), CN.VGZ..BHZ (2x), CN.VGZ..BHN (2x), \n",
      "\t\t\tCN.VGZ..BHE (2x), CN.VGZ..EHZ, CN.VGZ..HHZ (2x), CN.VGZ..HHN (2x), \n",
      "\t\t\tCN.VGZ..HHE (2x), CN.VGZ..HNZ (2x), CN.VGZ..HNN (2x), \n",
      "\t\t\tCN.VGZ..HNE (2x), CN.WOSB..EHZ, CN.WOSB..HHZ, CN.WOSB..HHN, \n",
      "\t\t\tCN.WOSB..HHE, CN.WOSB..HNZ (3x), CN.WOSB..HNN (3x), \n",
      "\t\t\tCN.WOSB..HNE (3x)\n"
     ]
    }
   ],
   "source": [
    "print(station_metadata)"
   ]
  },
  {
   "cell_type": "markdown",
   "id": "5a4fba64",
   "metadata": {},
   "source": [
    "### Retrieve Seismic Streams"
   ]
  },
  {
   "cell_type": "code",
   "execution_count": 5,
   "id": "1b59e6fa",
   "metadata": {},
   "outputs": [],
   "source": [
    "'''\n",
    "Use the stream_retriever function to retrieve\n",
    "seismic streams from an IRIS' FDSN compliant\n",
    "datacenter.\n",
    "'''\n",
    "data = stream_retriever(event_time=event_time,\n",
    "                        time_format='string',\n",
    "                        sta_list=station_list)"
   ]
  },
  {
   "cell_type": "code",
   "execution_count": 6,
   "id": "3fd7cdd8",
   "metadata": {},
   "outputs": [
    {
     "name": "stdout",
     "output_type": "stream",
     "text": [
      "45 Trace(s) in Stream:\n",
      "\n",
      "CN.BFSB..HHE | 2020-05-23T02:04:48.000000Z - 2020-05-23T02:29:48.000000Z | 100.0 Hz, 150001 samples\n",
      "...\n",
      "(43 other traces)\n",
      "...\n",
      "CN.WOSB..HHZ | 2020-05-23T02:04:48.000000Z - 2020-05-23T02:29:48.000000Z | 100.0 Hz, 150001 samples\n",
      "\n",
      "[Use \"print(Stream.__str__(extended=True))\" to print all Traces]\n"
     ]
    }
   ],
   "source": [
    "print(data)"
   ]
  },
  {
   "cell_type": "markdown",
   "id": "82cbb17c",
   "metadata": {},
   "source": [
    "### Save Station Metadata to the local filesystem"
   ]
  },
  {
   "cell_type": "code",
   "execution_count": 7,
   "id": "d2b30241",
   "metadata": {},
   "outputs": [
    {
     "data": {
      "text/plain": [
       "'C:\\\\Users\\\\aksha\\\\Desktop\\\\eew-spatio-temporal\\\\workflow_demos\\\\demo_stations_metadata.xml'"
      ]
     },
     "execution_count": 7,
     "metadata": {},
     "output_type": "execute_result"
    }
   ],
   "source": [
    "'''\n",
    "Use inventory_writer to save station_metadata to a\n",
    "file in the local filesystem in the XML format.\n",
    "Specify a path to the new file as the second argument.\n",
    "'''\n",
    "inventory_writer(station_metadata,'demo_stations_metadata.xml')"
   ]
  },
  {
   "cell_type": "markdown",
   "id": "1941f626",
   "metadata": {},
   "source": [
    "### Save Seismic Streams to the local filesystem"
   ]
  },
  {
   "cell_type": "code",
   "execution_count": 8,
   "id": "3cd6b4e6",
   "metadata": {},
   "outputs": [
    {
     "data": {
      "text/plain": [
       "'C:\\\\Users\\\\aksha\\\\Desktop\\\\eew-spatio-temporal\\\\workflow_demos\\\\demo_data.mseed'"
      ]
     },
     "execution_count": 8,
     "metadata": {},
     "output_type": "execute_result"
    }
   ],
   "source": [
    "'''\n",
    "Use stream_writer to save the seismic streams\n",
    "as an mseed file in the local filesystem. Specify\n",
    "a path to the new file as the second argument.\n",
    "'''\n",
    "stream_writer(data,'demo_data.mseed')"
   ]
  },
  {
   "cell_type": "markdown",
   "id": "04d8381f",
   "metadata": {},
   "source": [
    "### Read Station Metadata from the local filesystem"
   ]
  },
  {
   "cell_type": "code",
   "execution_count": 9,
   "id": "1beee7d6",
   "metadata": {},
   "outputs": [],
   "source": [
    "'''\n",
    "Use the inventory reader to read a metadata XML file\n",
    "from the local filesystem into an Inventory object. \n",
    "'''\n",
    "station_metadata_read = inventory_reader('demo_stations_metadata.xml')"
   ]
  },
  {
   "cell_type": "code",
   "execution_count": 10,
   "id": "ed271df7",
   "metadata": {},
   "outputs": [],
   "source": [
    "'''\n",
    "Verify that contents of the station metadata read from\n",
    "the filesystem match what was obtained initially.\n",
    "'''\n",
    "assert station_metadata.__str__() == station_metadata_read.__str__()\n",
    "\n",
    "# Note: No error implies that the two objects are equal!"
   ]
  },
  {
   "cell_type": "markdown",
   "id": "6352d0d7",
   "metadata": {},
   "source": [
    "### Read Seismic Streams from the local filesystem"
   ]
  },
  {
   "cell_type": "code",
   "execution_count": 11,
   "id": "843a81a8",
   "metadata": {},
   "outputs": [],
   "source": [
    "'''\n",
    "Use stream_reader to read an mseed file from\n",
    "the local filesystem into a Stream object.\n",
    "'''\n",
    "data_read = stream_reader('demo_data.mseed')"
   ]
  },
  {
   "cell_type": "code",
   "execution_count": 12,
   "id": "ef4f8761",
   "metadata": {},
   "outputs": [],
   "source": [
    "'''\n",
    "Verify that contents of the stream read from\n",
    "the filesystem match what was obtained initially.\n",
    "'''\n",
    "assert data.__str__() == data_read.__str__()\n",
    "\n",
    "# Note: No error implies that the two objects are equal!"
   ]
  }
 ],
 "metadata": {
  "kernelspec": {
   "display_name": "Python 3",
   "language": "python",
   "name": "python3"
  },
  "language_info": {
   "codemirror_mode": {
    "name": "ipython",
    "version": 3
   },
   "file_extension": ".py",
   "mimetype": "text/x-python",
   "name": "python",
   "nbconvert_exporter": "python",
   "pygments_lexer": "ipython3",
   "version": "3.8.8"
  }
 },
 "nbformat": 4,
 "nbformat_minor": 5
}
